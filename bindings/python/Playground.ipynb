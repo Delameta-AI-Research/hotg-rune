{
 "cells": [
  {
   "cell_type": "markdown",
   "metadata": {},
   "source": [
    "# Python Bindings Playground"
   ]
  },
  {
   "cell_type": "markdown",
   "metadata": {},
   "source": [
    "## Set Up the Environment"
   ]
  },
  {
   "cell_type": "code",
   "execution_count": 1,
   "metadata": {},
   "outputs": [],
   "source": [
    "import sys\n",
    "import subprocess\n",
    "from pathlib import Path\n",
    "\n",
    "assert sys.prefix != sys.base_prefix, \"You need to install Jupyter inside a virtual environment and run the notebook from there\""
   ]
  },
  {
   "cell_type": "code",
   "execution_count": 2,
   "metadata": {},
   "outputs": [
    {
     "name": "stdout",
     "output_type": "stream",
     "text": [
      "🔗 Found pyo3 bindings with abi3 support for Python ≥ 3.6\n",
      "🐍 Not using a specific python interpreter (With abi3, an interpreter is only required on windows)\n",
      "\u001b[0m\u001b[0m\u001b[1m\u001b[32m    Finished\u001b[0m dev [unoptimized + debuginfo] target(s) in 0.05s\n"
     ]
    }
   ],
   "source": [
    "!maturin develop"
   ]
  },
  {
   "cell_type": "code",
   "execution_count": 3,
   "metadata": {},
   "outputs": [
    {
     "name": "stdout",
     "output_type": "stream",
     "text": [
      "\u001b[33mWARNING: You are using pip version 20.2.3; however, version 21.1.1 is available.\r\n",
      "You should consider upgrading via the '/home/michael/Documents/hotg-ai/rune/python/env/bin/python -m pip install --upgrade pip' command.\u001b[0m\r\n"
     ]
    }
   ],
   "source": [
    "!pip install --quiet scipy matplotlib"
   ]
  },
  {
   "cell_type": "code",
   "execution_count": 4,
   "metadata": {},
   "outputs": [],
   "source": [
    "status = subprocess.run([\"git\", \"rev-parse\", \"--show-toplevel\"], stdout=subprocess.PIPE, check=True)\n",
    "\n",
    "RUNE_PROJECT_ROOT = Path(status.stdout.decode(\"utf-8\").strip())\n",
    "EXAMPLE_DIR = RUNE_PROJECT_ROOT / \"examples\""
   ]
  },
  {
   "cell_type": "markdown",
   "metadata": {},
   "source": [
    "## Fast Fourier Transform"
   ]
  },
  {
   "cell_type": "code",
   "execution_count": 7,
   "metadata": {},
   "outputs": [],
   "source": [
    "import rune_py\n",
    "from rune_py import Fft, NoiseFiltering\n",
    "import numpy as np\n",
    "from scipy.io import wavfile\n",
    "import matplotlib.pyplot as plt\n",
    "import math"
   ]
  },
  {
   "cell_type": "code",
   "execution_count": 10,
   "metadata": {},
   "outputs": [
    {
     "data": {
      "image/png": "[encoded data removed]",
      "text/plain": [
       "<Figure size 432x288 with 2 Axes>"
      ]
     },
     "metadata": {
      "needs_background": "light"
     },
     "output_type": "display_data"
    },
    {
     "data": {
      "image/png": "[encoded data removed]",
      "text/plain": [
       "<Figure size 432x288 with 2 Axes>"
      ]
     },
     "metadata": {
      "needs_background": "light"
     },
     "output_type": "display_data"
    }
   ],
   "source": [
    "#no = EXAMPLE_DIR / \"microspeech\" / \"data\" / \"no_b66f4f93_nohash_8.wav\"\n",
    "no = Path(\"/home/michael/Downloads/18f8afd5_nohash_4(2).wav\")\n",
    "samplerate, data = wavfile.read(no)\n",
    "\n",
    "fft = Fft()\n",
    "noise_filtering = NoiseFiltering()\n",
    "\n",
    "fft.sample_rate = samplerate\n",
    "noise_filtering.smoothing_bits = 10\n",
    "noise_filtering.even_smoothing = 0.025\n",
    "noise_filtering.odd_smoothing = 0.06\n",
    "noise_filtering.min_signal_remaining = 0.05\n",
    "noise_filtering.strength = 0.95\n",
    "noise_filtering.offset = 80.0\n",
    "noise_filtering.gain_bits = 21\n",
    "\n",
    "spectrum = fft(data)\n",
    "\n",
    "fig, axis = plt.subplots() \n",
    "heatmap = axis.pcolor(spectrum.reshape(49, 40))\n",
    "plt.colorbar(heatmap)\n",
    "axis.set_title(\"Spectrum\")\n",
    "plt.show()\n",
    "\n",
    "filtered = noise_filtering(spectrum)\n",
    "\n",
    "fig, axis = plt.subplots() \n",
    "heatmap = axis.pcolor(filtered.reshape(49, 40))\n",
    "axis.set_title(\"Filtered and Scaled\")\n",
    "plt.colorbar(heatmap)\n",
    "plt.show()"
   ]
  },
  {
   "cell_type": "code",
   "execution_count": null,
   "metadata": {},
   "outputs": [],
   "source": [
    "from ipywidgets import interact, interactive, fixed, interact_manual, IntSlider, FloatSlider, FloatLogSlider"
   ]
  },
  {
   "cell_type": "code",
   "execution_count": null,
   "metadata": {},
   "outputs": [],
   "source": [
    "def render(smoothing_bits, even_smoothing, odd_smoothing):\n",
    "    fft = Fft()\n",
    "\n",
    "    fft.sample_rate = samplerate\n",
    "    fft.smoothing_bits = smoothing_bits\n",
    "    fft.even_smoothing = even_smoothing\n",
    "    fft.odd_smoothing = odd_smoothing\n",
    "    fft.min_signal_remaining = 0.05\n",
    "    fft.strength = 0.95\n",
    "    fft.offset = 80.0\n",
    "    fft.gain_bits = 21\n",
    "\n",
    "    spectrum = fft(data).reshape(49, 40)\n",
    "\n",
    "    plt.imshow(spectrum)\n",
    "    plt.show()\n",
    "    \n",
    "interact(\n",
    "    render, \n",
    "    smoothing_bits=IntSlider(min=0, max=16, value=10),\n",
    "    even_smoothing=FloatLogSlider(min=-2, max=2, value=0),\n",
    "    odd_smoothing=FloatLogSlider(min=-2, max=2, value=0),\n",
    ");"
   ]
  },
  {
   "cell_type": "code",
   "execution_count": null,
   "metadata": {},
   "outputs": [],
   "source": [
    "!maturin develop\n",
    "\n",
    "import rune_py\n",
    "\n",
    "for key in dir(rune_py):\n",
    "    print(key, getattr(rune_py, key))"
   ]
  },
  {
   "cell_type": "code",
   "execution_count": null,
   "metadata": {},
   "outputs": [],
   "source": []
  }
 ],
 "metadata": {
  "kernelspec": {
   "display_name": "Python 3",
   "language": "python",
   "name": "python3"
  },
  "language_info": {
   "codemirror_mode": {
    "name": "ipython",
    "version": 3
   },
   "file_extension": ".py",
   "mimetype": "text/x-python",
   "name": "python",
   "nbconvert_exporter": "python",
   "pygments_lexer": "ipython3",
   "version": "3.9.4"
  }
 },
 "nbformat": 4,
 "nbformat_minor": 4
}
