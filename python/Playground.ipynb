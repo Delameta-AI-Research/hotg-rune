{
 "cells": [
  {
   "cell_type": "markdown",
   "metadata": {},
   "source": [
    "# Python Bindings Playground"
   ]
  },
  {
   "cell_type": "markdown",
   "metadata": {},
   "source": [
    "## Set Up the Environment"
   ]
  },
  {
   "cell_type": "code",
   "execution_count": null,
   "metadata": {},
   "outputs": [],
   "source": [
    "import sys\n",
    "import subprocess\n",
    "from pathlib import Path\n",
    "\n",
    "assert sys.prefix != sys.base_prefix, \"You need to install Jupyter inside a virtual environment and run the notebook from there\""
   ]
  },
  {
   "cell_type": "code",
   "execution_count": null,
   "metadata": {},
   "outputs": [],
   "source": [
    "!maturin develop --release"
   ]
  },
  {
   "cell_type": "code",
   "execution_count": null,
   "metadata": {},
   "outputs": [],
   "source": [
    "!pip install --quiet scipy matplotlib"
   ]
  },
  {
   "cell_type": "code",
   "execution_count": null,
   "metadata": {},
   "outputs": [],
   "source": [
    "status = subprocess.run([\"git\", \"rev-parse\", \"--show-toplevel\"], stdout=subprocess.PIPE, check=True)\n",
    "\n",
    "RUNE_PROJECT_ROOT = Path(status.stdout.decode(\"utf-8\").strip())\n",
    "EXAMPLE_DIR = RUNE_PROJECT_ROOT / \"examples\""
   ]
  },
  {
   "cell_type": "markdown",
   "metadata": {},
   "source": [
    "## Fast Fourier Transform"
   ]
  },
  {
   "cell_type": "code",
   "execution_count": null,
   "metadata": {},
   "outputs": [],
   "source": [
    "from rune_py import Fft\n",
    "import numpy as np\n",
    "from scipy.io import wavfile\n",
    "import matplotlib.pyplot as plt\n",
    "import math"
   ]
  },
  {
   "cell_type": "code",
   "execution_count": null,
   "metadata": {},
   "outputs": [],
   "source": [
    "no = EXAMPLE_DIR / \"microspeech\" / \"data\" / \"no_b66f4f93_nohash_8.wav\"\n",
    "samplerate, data = wavfile.read(no)\n",
    "\n",
    "fft = Fft()\n",
    "\n",
    "fft.sample_rate = samplerate\n",
    "fft.smoothing_bits = 10\n",
    "fft.even_smoothing = 0.025\n",
    "fft.odd_smoothing = 0.06\n",
    "fft.min_signal_remaining = 0.05\n",
    "fft.strength = 0.95\n",
    "fft.offset = 80.0\n",
    "fft.gain_bits = 21\n",
    "\n",
    "spectrum = fft(data).reshape(49, 40)\n",
    "\n",
    "fig, axis = plt.subplots() \n",
    "heatmap = axis.pcolor(spectrum)\n",
    "plt.colorbar(heatmap)\n",
    "plt.show()"
   ]
  },
  {
   "cell_type": "code",
   "execution_count": null,
   "metadata": {},
   "outputs": [],
   "source": [
    "from ipywidgets import interact, interactive, fixed, interact_manual, IntSlider, FloatSlider, FloatLogSlider"
   ]
  },
  {
   "cell_type": "code",
   "execution_count": null,
   "metadata": {},
   "outputs": [],
   "source": [
    "def render(smoothing_bits, even_smoothing, odd_smoothing):\n",
    "    fft = Fft()\n",
    "\n",
    "    fft.sample_rate = samplerate\n",
    "    fft.smoothing_bits = smoothing_bits\n",
    "    fft.even_smoothing = even_smoothing\n",
    "    fft.odd_smoothing = odd_smoothing\n",
    "    fft.min_signal_remaining = 0.05\n",
    "    fft.strength = 0.95\n",
    "    fft.offset = 80.0\n",
    "    fft.gain_bits = 21\n",
    "\n",
    "    spectrum = fft(data).reshape(49, 40)\n",
    "\n",
    "    plt.imshow(spectrum)\n",
    "    plt.show()\n",
    "    \n",
    "interact(\n",
    "    render, \n",
    "    smoothing_bits=IntSlider(min=0, max=16, value=10),\n",
    "    even_smoothing=FloatLogSlider(min=-2, max=2, value=0),\n",
    "    odd_smoothing=FloatLogSlider(min=-2, max=2, value=0),\n",
    ");"
   ]
  },
  {
   "cell_type": "code",
   "execution_count": null,
   "metadata": {},
   "outputs": [],
   "source": []
  }
 ],
 "metadata": {
  "kernelspec": {
   "display_name": "Python 3",
   "language": "python",
   "name": "python3"
  },
  "language_info": {
   "codemirror_mode": {
    "name": "ipython",
    "version": 3
   },
   "file_extension": ".py",
   "mimetype": "text/x-python",
   "name": "python",
   "nbconvert_exporter": "python",
   "pygments_lexer": "ipython3",
   "version": "3.9.4"
  }
 },
 "nbformat": 4,
 "nbformat_minor": 4
}
