{
 "cells": [
  {
   "cell_type": "markdown",
   "id": "5bdf4d4b",
   "metadata": {},
   "source": [
    "A notepad that trains a model to predict the output from a sine wave. See [this gist](https://gist.github.com/ShawnHymel/79237fe6aee5a3653c497d879f746c0c) for more."
   ]
  },
  {
   "cell_type": "code",
   "execution_count": null,
   "id": "924f100a",
   "metadata": {},
   "outputs": [],
   "source": [
    "import sys\n",
    "import numpy as np\n",
    "import matplotlib.pyplot as plt\n",
    "import math\n",
    "\n",
    "# Disable unnecessary log output from tensorflow\n",
    "import os\n",
    "os.environ['TF_CPP_MIN_LOG_LEVEL'] = '3' \n",
    "\n",
    "import tensorflow as tf\n",
    "from tensorflow.keras import layers\n",
    "import tensorflowjs as tfjs\n",
    "\n",
    "print(\"Python:\", sys.version)\n",
    "print(\"Numpy:\", np.__version__)\n",
    "print(\"TensorFlow:\", tf.__version__)\n",
    "print(\"TensorFlow JS:\", tfjs.__version__)\n",
    "print(\"Keras:\", tf.keras.__version__)"
   ]
  },
  {
   "cell_type": "code",
   "execution_count": null,
   "id": "f97c08a0",
   "metadata": {},
   "outputs": [],
   "source": [
    "# Settings\n",
    "nsamples = 2000     # Number of samples to use as a dataset\n",
    "val_ratio = 0.2     # Percentage of samples that should be held for validation set\n",
    "test_ratio = 0.2    # Percentage of samples that should be held for test set\n",
    "tflite_model_name = 'sine_model'  # Will be given .tflite suffix\n",
    "c_model_name = 'sine_model'       # Will be given .h suffix"
   ]
  },
  {
   "cell_type": "code",
   "execution_count": null,
   "id": "5935f942",
   "metadata": {},
   "outputs": [],
   "source": [
    "# Generate some random samples\n",
    "np.random.seed(1234)\n",
    "x_values = np.random.uniform(low=0, high=(2 * math.pi), size=nsamples)\n",
    "plt.plot(x_values)"
   ]
  },
  {
   "cell_type": "code",
   "execution_count": null,
   "id": "98b4962c",
   "metadata": {},
   "outputs": [],
   "source": [
    "# Create a noisy sinewave with these values\n",
    "y_values = np.sin(x_values)\n",
    "plt.plot(x_values, y_values, '.')"
   ]
  },
  {
   "cell_type": "code",
   "execution_count": null,
   "id": "dd59f44f",
   "metadata": {},
   "outputs": [],
   "source": [
    "# Split the dataset into training, validation, and test sets\n",
    "val_split = int(val_ratio * nsamples)\n",
    "test_split = int(val_split + (test_ratio * nsamples))\n",
    "x_val, x_test, x_train = np.split(x_values, [val_split, test_split])\n",
    "y_val, y_test, y_train = np.split(y_values, [val_split, test_split])\n",
    "\n",
    "# Check that our splits add up correctly\n",
    "assert(x_train.size + x_val.size + x_test.size) == nsamples\n",
    "\n",
    "# Plot the data in each partition in different colors:\n",
    "plt.plot(x_train, y_train, 'b.', label=\"Train\")\n",
    "plt.plot(x_test, y_test, 'r.', label=\"Test\")\n",
    "plt.plot(x_val, y_val, 'y.', label=\"Validate\")\n",
    "plt.legend()\n",
    "plt.show()"
   ]
  },
  {
   "cell_type": "code",
   "execution_count": null,
   "id": "46a79f30",
   "metadata": {},
   "outputs": [],
   "source": [
    "# Create a model\n",
    "model = tf.keras.Sequential()\n",
    "model.add(layers.Dense(16, activation='relu', input_shape=(1,)))\n",
    "model.add(layers.Dense(16, activation='relu'))\n",
    "model.add(layers.Dense(1))"
   ]
  },
  {
   "cell_type": "code",
   "execution_count": null,
   "id": "52e8aa1c",
   "metadata": {},
   "outputs": [],
   "source": [
    "# View model\n",
    "model.summary()"
   ]
  },
  {
   "cell_type": "code",
   "execution_count": null,
   "id": "3c9c6cef",
   "metadata": {},
   "outputs": [],
   "source": [
    "# Add optimizer, loss function, and metrics to model and compile it\n",
    "model.compile(optimizer='rmsprop', loss='mae', metrics=['mae'])"
   ]
  },
  {
   "cell_type": "code",
   "execution_count": null,
   "id": "6ccbcd75",
   "metadata": {},
   "outputs": [],
   "source": [
    "# Train model\n",
    "history = model.fit(x_train,\n",
    "                    y_train,\n",
    "                    epochs=1000,\n",
    "                    batch_size=100,\n",
    "                    validation_data=(x_val, y_val),\n",
    "                    verbose=0)"
   ]
  },
  {
   "cell_type": "code",
   "execution_count": null,
   "id": "49d72b46",
   "metadata": {},
   "outputs": [],
   "source": [
    "# Plot the training history\n",
    "loss = history.history['loss']\n",
    "val_loss = history.history['val_loss']\n",
    "\n",
    "epochs = range(1, len(loss) + 1)\n",
    "\n",
    "plt.plot(epochs, loss, 'bo', label='Training loss')\n",
    "plt.plot(epochs, val_loss, 'b', label='Validation loss')\n",
    "plt.title('Training and validation loss')\n",
    "plt.legend()\n",
    "plt.show()"
   ]
  },
  {
   "cell_type": "code",
   "execution_count": null,
   "id": "60d7e2f9",
   "metadata": {},
   "outputs": [],
   "source": [
    "# Plot predictions against actual values\n",
    "predictions = model.predict(x_test)\n",
    "\n",
    "plt.clf()\n",
    "plt.title(\"Comparison of predictions to actual values\")\n",
    "plt.plot(x_test, y_test, 'b.', label='Actual')\n",
    "plt.plot(x_test, predictions, 'r.', label='Prediction')\n",
    "plt.legend()\n",
    "plt.show()"
   ]
  },
  {
   "cell_type": "code",
   "execution_count": null,
   "id": "de538cf8",
   "metadata": {},
   "outputs": [],
   "source": [
    "# Save the model in tf.js format\n",
    "tfjs.converters.save_keras_model(model, \"./sine-wave\")"
   ]
  },
  {
   "cell_type": "code",
   "execution_count": null,
   "id": "e843600f",
   "metadata": {},
   "outputs": [],
   "source": []
  }
 ],
 "metadata": {
  "kernelspec": {
   "display_name": "Python 3 (ipykernel)",
   "language": "python",
   "name": "python3"
  },
  "language_info": {
   "codemirror_mode": {
    "name": "ipython",
    "version": 3
   },
   "file_extension": ".py",
   "mimetype": "text/x-python",
   "name": "python",
   "nbconvert_exporter": "python",
   "pygments_lexer": "ipython3",
   "version": "3.10.1"
  }
 },
 "nbformat": 4,
 "nbformat_minor": 5
}
