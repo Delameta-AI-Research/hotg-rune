{
 "cells": [
  {
   "cell_type": "code",
   "execution_count": 1,
   "id": "protecting-wrapping",
   "metadata": {},
   "outputs": [
    {
     "data": {
      "text/plain": [
       "'1.15.2'"
      ]
     },
     "execution_count": 1,
     "metadata": {},
     "output_type": "execute_result"
    }
   ],
   "source": [
    "from __future__ import absolute_import\n",
    "from __future__ import division\n",
    "from __future__ import print_function\n",
    "\n",
    "from tensorflow.python.ops import gen_audio_ops as audio_ops\n",
    "from tensorflow.python.ops import io_ops\n",
    "from tensorflow.python.platform import gfile\n",
    "from tensorflow.python.util import compat\n",
    "\n",
    "import librosa\n",
    "import numpy as np\n",
    "import scipy.signal\n",
    "import scipy.io.wavfile as wavfile\n",
    "import tensorflow as tf\n",
    "import os, sys\n",
    "\n",
    "from matplotlib import pyplot as plt\n",
    "from tensorflow.python.ops import io_ops\n",
    "from tf_speech_commands import input_data, models\n",
    "\n",
    "try:\n",
    "    from tensorflow.lite.experimental.microfrontend.python.ops import audio_microfrontend_op as frontend_op\n",
    "except ImportError:\n",
    "    frontend_op = None\n",
    "    \n",
    "from rune_py import Fft, NoiseFiltering\n",
    "import subprocess\n",
    "    \n",
    "tf.__version__"
   ]
  },
  {
   "cell_type": "code",
   "execution_count": 2,
   "id": "swedish-programmer",
   "metadata": {},
   "outputs": [
    {
     "ename": "NameError",
     "evalue": "name 'Path' is not defined",
     "output_type": "error",
     "traceback": [
      "\u001b[0;31m---------------------------------------------------------------------------\u001b[0m",
      "\u001b[0;31mNameError\u001b[0m                                 Traceback (most recent call last)",
      "\u001b[0;32m<ipython-input-2-37e1f2e1043f>\u001b[0m in \u001b[0;36m<module>\u001b[0;34m\u001b[0m\n\u001b[1;32m      1\u001b[0m \u001b[0mstatus\u001b[0m \u001b[0;34m=\u001b[0m \u001b[0msubprocess\u001b[0m\u001b[0;34m.\u001b[0m\u001b[0mrun\u001b[0m\u001b[0;34m(\u001b[0m\u001b[0;34m[\u001b[0m\u001b[0;34m\"git\"\u001b[0m\u001b[0;34m,\u001b[0m \u001b[0;34m\"rev-parse\"\u001b[0m\u001b[0;34m,\u001b[0m \u001b[0;34m\"--show-toplevel\"\u001b[0m\u001b[0;34m]\u001b[0m\u001b[0;34m,\u001b[0m \u001b[0mstdout\u001b[0m\u001b[0;34m=\u001b[0m\u001b[0msubprocess\u001b[0m\u001b[0;34m.\u001b[0m\u001b[0mPIPE\u001b[0m\u001b[0;34m,\u001b[0m \u001b[0mcheck\u001b[0m\u001b[0;34m=\u001b[0m\u001b[0;32mTrue\u001b[0m\u001b[0;34m)\u001b[0m\u001b[0;34m\u001b[0m\u001b[0;34m\u001b[0m\u001b[0m\n\u001b[1;32m      2\u001b[0m \u001b[0;34m\u001b[0m\u001b[0m\n\u001b[0;32m----> 3\u001b[0;31m \u001b[0mRUNE_PROJECT_ROOT\u001b[0m \u001b[0;34m=\u001b[0m \u001b[0mPath\u001b[0m\u001b[0;34m(\u001b[0m\u001b[0mstatus\u001b[0m\u001b[0;34m.\u001b[0m\u001b[0mstdout\u001b[0m\u001b[0;34m.\u001b[0m\u001b[0mdecode\u001b[0m\u001b[0;34m(\u001b[0m\u001b[0;34m\"utf-8\"\u001b[0m\u001b[0;34m)\u001b[0m\u001b[0;34m.\u001b[0m\u001b[0mstrip\u001b[0m\u001b[0;34m(\u001b[0m\u001b[0;34m)\u001b[0m\u001b[0;34m)\u001b[0m\u001b[0;34m\u001b[0m\u001b[0;34m\u001b[0m\u001b[0m\n\u001b[0m\u001b[1;32m      4\u001b[0m \u001b[0mEXAMPLE_DIR\u001b[0m \u001b[0;34m=\u001b[0m \u001b[0mRUNE_PROJECT_ROOT\u001b[0m \u001b[0;34m/\u001b[0m \u001b[0;34m\"examples\"\u001b[0m\u001b[0;34m\u001b[0m\u001b[0;34m\u001b[0m\u001b[0m\n",
      "\u001b[0;31mNameError\u001b[0m: name 'Path' is not defined"
     ]
    }
   ],
   "source": [
    "status = subprocess.run([\"git\", \"rev-parse\", \"--show-toplevel\"], stdout=subprocess.PIPE, check=True)\n",
    "\n",
    "RUNE_PROJECT_ROOT = Path(status.stdout.decode(\"utf-8\").strip())\n",
    "EXAMPLE_DIR = RUNE_PROJECT_ROOT / \"examples\""
   ]
  },
  {
   "cell_type": "code",
   "execution_count": 2,
   "id": "classical-prince",
   "metadata": {},
   "outputs": [],
   "source": [
    "fft = Fft()\n",
    "noise_filtering = NoiseFiltering()\n",
    "\n",
    "fft.sample_rate = 16000\n",
    "noise_filtering.smoothing_bits = 10\n",
    "noise_filtering.even_smoothing = 0.025\n",
    "noise_filtering.odd_smoothing = 0.06\n",
    "noise_filtering.min_signal_remaining = 0.05\n",
    "noise_filtering.strength = 0.95\n",
    "noise_filtering.offset = 80.0\n",
    "noise_filtering.gain_bits = 21\n",
    "\n",
    "\n"
   ]
  },
  {
   "cell_type": "code",
   "execution_count": 3,
   "id": "excess-growing",
   "metadata": {},
   "outputs": [],
   "source": [
    "sample_rate = 16000\n",
    "window_size_samples = 480\n",
    "window_stride_samples = 320\n",
    "num_channels = 40\n",
    "lower_band_limit = 0.0\n",
    "upper_band_limit = 7999.0\n",
    "min_signal_remaining=0.05\n",
    "smoothing_bits=10\n",
    "even_smoothing=0.025\n",
    "odd_smoothing=0.06\n",
    "enable_pcan=True\n",
    "pcan_strength=0.95\n",
    "pcan_offset=80.0\n",
    "gain_bits=21\n",
    "scale_shift=6\n",
    "enable_log=True\n",
    "\n",
    "tf.compat.v1.reset_default_graph()\n",
    "tf.compat.v1.disable_eager_execution()\n",
    "\n",
    "window_size_ms = window_size_samples*1000/sample_rate\n",
    "window_step_ms = window_stride_samples*1000/sample_rate\n",
    "\n",
    "with tf.compat.v1.get_default_graph().name_scope('data'):\n",
    "    wav_filename_placeholder_ = tf.compat.v1.placeholder(tf.string, [], name='wav_filename')\n",
    "    num_channels_placeholder_ = tf.compat.v1.placeholder(tf.int16, [], name='wav_filename')\n",
    "    # wav_content_placeholder = tf.placeholder(tf.int16, shape=(None, 1)) # TODO: find the shape of the wav data\n",
    "\n",
    "    # Read WAV\n",
    "    wav_loader = io_ops.read_file(wav_filename_placeholder_)\n",
    "\n",
    "    # Decode a 16-bit PCM WAV file to a float tensor (between -1, +1)\n",
    "    wav_decoder = tf.audio.decode_wav(wav_loader, desired_channels=1, desired_samples=sample_rate)\n",
    "\n",
    "    # Extracts a 1-second slice (since there are sample_rate samples) from a tensor: (input, begin, size)\n",
    "    time_shift_offset_placeholder_ = tf.compat.v1.placeholder(tf.int32, shape=[2], name='time_shift_offset')\n",
    "    sliced_foreground = tf.slice(wav_decoder.audio, time_shift_offset_placeholder_, [sample_rate, -1])\n",
    "\n",
    "    f32_input = tf.multiply(sliced_foreground, 32768)\n",
    "    int16_input = tf.cast(f32_input, tf.int16)\n",
    "\n",
    "    int16_input_shape = tf.shape(int16_input)\n",
    "\n",
    "    micro_frontend = frontend_op.audio_microfrontend(int16_input,  sample_rate=16000, \n",
    "        # WINDOWING\n",
    "        window_size=window_size_ms, window_step=window_step_ms, num_channels=num_channels, \n",
    "\n",
    "        # MEL\n",
    "        upper_band_limit=upper_band_limit, lower_band_limit=lower_band_limit,\n",
    "\n",
    "        # SMOOTHING\n",
    "        min_signal_remaining=min_signal_remaining, smoothing_bits=smoothing_bits, \n",
    "        even_smoothing=even_smoothing, odd_smoothing=odd_smoothing,\n",
    "\n",
    "        # PCAN\n",
    "        enable_pcan=enable_pcan, pcan_strength=pcan_strength, pcan_offset=pcan_offset, gain_bits=gain_bits,\n",
    "\n",
    "        # LOG\n",
    "        enable_log=enable_log,\n",
    "\n",
    "        # SCALE\n",
    "        scale_shift=scale_shift,\n",
    "\n",
    "                                                     out_scale=1,\n",
    "                                                     out_type=tf.float32)\n",
    "\n",
    "    output_ = tf.multiply(micro_frontend, (10.0 / 256.0))\n",
    "    #output_ = tf.multiply(micro_frontend, 1.0)\n",
    "\n",
    "def compute(wav_filename):\n",
    "    \n",
    "\n",
    "\n",
    "    sample_rate, voice_signal = wavfile.read(wav_filename)\n",
    "    voice_signal_normalised = (voice_signal-np.min(voice_signal))/(np.max(voice_signal)-np.min(voice_signal))\n",
    "    voice_signal_f32 = voice_signal_normalised*32768\n",
    "\n",
    "    input_dict = {wav_filename_placeholder_: wav_filename, time_shift_offset_placeholder_: [0, 0]}\n",
    "    # Run the graph to produce the output audio.\n",
    "    with tf.Session() as sess:\n",
    "        [tf_micro_frontend, input_shape, tf_fg, tf_f32_input] = sess.run([output_, int16_input_shape, \n",
    "                                                                     sliced_foreground, f32_input], \n",
    "                                                                    feed_dict=input_dict)\n",
    "    return tf_micro_frontend"
   ]
  },
  {
   "cell_type": "code",
   "execution_count": 4,
   "id": "sized-calibration",
   "metadata": {},
   "outputs": [
    {
     "ename": "NameError",
     "evalue": "name 'yes' is not defined",
     "output_type": "error",
     "traceback": [
      "\u001b[0;31m---------------------------------------------------------------------------\u001b[0m",
      "\u001b[0;31mNameError\u001b[0m                                 Traceback (most recent call last)",
      "\u001b[0;32m<ipython-input-4-084d24bbed96>\u001b[0m in \u001b[0;36m<module>\u001b[0;34m\u001b[0m\n\u001b[0;32m----> 1\u001b[0;31m \u001b[0myes\u001b[0m\u001b[0;34m\u001b[0m\u001b[0;34m\u001b[0m\u001b[0m\n\u001b[0m",
      "\u001b[0;31mNameError\u001b[0m: name 'yes' is not defined"
     ]
    }
   ],
   "source": [
    "yes"
   ]
  },
  {
   "cell_type": "code",
   "execution_count": 28,
   "id": "exotic-advisory",
   "metadata": {},
   "outputs": [],
   "source": [
    "def get_model_details():\n",
    "    \n",
    "        # Load TFLite model and allocate tensors.\n",
    "    interpreter = tf.lite.Interpreter(\n",
    "        model_path=\"/Users/meelislootus/Documents/hotg/rune_new2/rune/examples/microspeech/model_2048_up_down_right_left.tflite\")\n",
    "        #model_path=\"/Users/meelislootus/Documents/hotg/rune/examples/microspeech/model.tflite\")\n",
    "    interpreter.allocate_tensors()\n",
    "\n",
    "    # Get input and output tensors.\n",
    "    input_details = interpreter.get_input_details()\n",
    "    output_details = interpreter.get_output_details()\n",
    "    return input_details, output_details\n",
    "\n",
    "\n",
    "def run_tflite_model(input_spectrogram):\n",
    "\n",
    "    # Load TFLite model and allocate tensors.\n",
    "    interpreter = tf.lite.Interpreter(\n",
    "        model_path=\"/Users/meelislootus/Documents/hotg/rune_new2/rune/examples/microspeech/model_2048_up_down_right_left.tflite\")\n",
    "        #model_path=\"/Users/meelislootus/Documents/hotg/rune/examples/microspeech/model.tflite\")\n",
    "    interpreter.allocate_tensors()\n",
    "\n",
    "    # Get input and output tensors.\n",
    "    input_details = interpreter.get_input_details()\n",
    "    output_details = interpreter.get_output_details()\n",
    "\n",
    "    # Test model on input data.\n",
    "    interpreter.set_tensor(input_details[0]['index'], input_spectrogram)\n",
    "\n",
    "    interpreter.invoke()\n",
    "\n",
    "    # The function `get_tensor()` returns a copy of the tensor data.\n",
    "    # Use `tensor()` in order to get a pointer to the tensor.\n",
    "    output_data = interpreter.get_tensor(output_details[0]['index'])\n",
    "    return output_data"
   ]
  },
  {
   "cell_type": "code",
   "execution_count": 32,
   "id": "advanced-instrument",
   "metadata": {},
   "outputs": [
    {
     "name": "stderr",
     "output_type": "stream",
     "text": [
      "/Users/meelislootus/Documents/hotg/tflite_models/venv_tf1_py3d7d6/lib/python3.7/site-packages/ipykernel_launcher.py:75: RuntimeWarning: overflow encountered in short_scalars\n"
     ]
    }
   ],
   "source": [
    "\n",
    "\n",
    "#output = (255*(output-np.min(output))/(np.max(output)-np.min(output))-128).astype(np.int8)\n",
    "\n",
    "input_details, output_details = get_model_details()\n",
    "\n",
    "input_scale, input_zero_point = input_details[0][\"quantization\"]\n",
    "\n",
    "yes_dir = \"/Users/meelislootus/Documents/hotg/tflite_models/microspeech/dataset/up\"\n",
    "no_dir = \"/Users/meelislootus/Documents/hotg/tflite_models/microspeech/dataset/no\"\n",
    "yes_list = os.listdir(yes_dir)\n",
    "no_list = os.listdir(no_dir)\n",
    "\n",
    "tf_result_list = []\n",
    "rune_result_list = []\n",
    "\n",
    "for yes in yes_list[0:5]:\n",
    "\n",
    "    output = compute(os.path.join(yes_dir, yes))\n",
    "\n",
    "    test_data = output.flatten() / input_scale + input_zero_point\n",
    "    test_data = np.reshape(test_data.astype(input_details[0][\"dtype\"]), [1, 1960])\n",
    "    \n",
    "    \n",
    "    samplerate, data = wavfile.read(os.path.join(yes_dir, yes))\n",
    "    #data = (32768*data.astype(np.float32)/np.max(abs(data))).astype(np.int16)\n",
    "    \n",
    "    rune_spec = noise_filtering(fft(data))\n",
    "    \n",
    "    tf_result_list.append(run_tflite_model(test_data))\n",
    "    rune_result_list.append(run_tflite_model(np.reshape(rune_spec, [1, 1960])))\n",
    "    "
   ]
  },
  {
   "cell_type": "code",
   "execution_count": 33,
   "id": "political-scottish",
   "metadata": {},
   "outputs": [
    {
     "data": {
      "text/plain": [
       "[array([[-128, -127, -128,  127, -128, -128]], dtype=int8),\n",
       " array([[-128,    6, -117, -127,  -19, -128]], dtype=int8),\n",
       " array([[ 127, -128, -128, -128, -128, -128]], dtype=int8),\n",
       " array([[-128, -127, -116,  114, -128, -128]], dtype=int8),\n",
       " array([[-128, -124, -128,  123, -128, -128]], dtype=int8)]"
      ]
     },
     "execution_count": 33,
     "metadata": {},
     "output_type": "execute_result"
    }
   ],
   "source": [
    "rune_result_list"
   ]
  },
  {
   "cell_type": "code",
   "execution_count": 34,
   "id": "personalized-discipline",
   "metadata": {},
   "outputs": [
    {
     "data": {
      "text/plain": [
       "[array([[-128, -122,   62, -128, -101,  -95]], dtype=int8),\n",
       " array([[-119, -111,  -85, -127,  -75,    5]], dtype=int8),\n",
       " array([[-128,  -30,  -20, -114, -118, -102]], dtype=int8),\n",
       " array([[-128, -124,  111, -124, -119, -127]], dtype=int8),\n",
       " array([[-127,  -37,  -79,  -84,  -84, -101]], dtype=int8)]"
      ]
     },
     "execution_count": 34,
     "metadata": {},
     "output_type": "execute_result"
    }
   ],
   "source": [
    "tf_result_list"
   ]
  },
  {
   "cell_type": "code",
   "execution_count": 23,
   "id": "organic-vessel",
   "metadata": {},
   "outputs": [
    {
     "data": {
      "text/plain": [
       "128.0"
      ]
     },
     "execution_count": 23,
     "metadata": {},
     "output_type": "execute_result"
    }
   ],
   "source": [
    "26/input_scale+input_zero_point"
   ]
  },
  {
   "cell_type": "code",
   "execution_count": 19,
   "id": "ecological-bouquet",
   "metadata": {},
   "outputs": [
    {
     "data": {
      "text/plain": [
       "array([  57,   78,  105, ..., -128, -128, -128], dtype=int8)"
      ]
     },
     "execution_count": 19,
     "metadata": {},
     "output_type": "execute_result"
    }
   ],
   "source": [
    "rune_spec"
   ]
  },
  {
   "cell_type": "code",
   "execution_count": 8,
   "id": "least-slope",
   "metadata": {},
   "outputs": [
    {
     "name": "stdout",
     "output_type": "stream",
     "text": [
      "TF truth: 1.0\n",
      "Rune truth: 0.2\n"
     ]
    }
   ],
   "source": [
    "print(\"TF truth: {}\".format(np.sum(np.argmax(np.vstack(tf_result_list), axis=1)==2)/len(tf_result_list)))\n",
    "print(\"Rune truth: {}\".format(np.sum(np.argmax(np.vstack(rune_result_list), axis=1)==2)/len(rune_result_list)))"
   ]
  },
  {
   "cell_type": "code",
   "execution_count": 9,
   "id": "stunning-harvey",
   "metadata": {},
   "outputs": [
    {
     "data": {
      "text/plain": [
       "<matplotlib.image.AxesImage at 0x1504d8210>"
      ]
     },
     "execution_count": 9,
     "metadata": {},
     "output_type": "execute_result"
    },
    {
     "data": {
      "image/png": "[encoded data removed]",
      "text/plain": [
       "<Figure size 432x288 with 1 Axes>"
      ]
     },
     "metadata": {
      "needs_background": "light"
     },
     "output_type": "display_data"
    }
   ],
   "source": [
    "plt.imshow(np.reshape(rune_spec, [49, 40]))"
   ]
  },
  {
   "cell_type": "code",
   "execution_count": 12,
   "id": "played-barbados",
   "metadata": {},
   "outputs": [
    {
     "data": {
      "text/plain": [
       "<matplotlib.image.AxesImage at 0x15051e150>"
      ]
     },
     "execution_count": 12,
     "metadata": {},
     "output_type": "execute_result"
    },
    {
     "data": {
      "image/png": "[encoded data removed]",
      "text/plain": [
       "<Figure size 432x288 with 1 Axes>"
      ]
     },
     "metadata": {
      "needs_background": "light"
     },
     "output_type": "display_data"
    }
   ],
   "source": [
    "plt.imshow(np.reshape(test_data, [49, 40]))"
   ]
  },
  {
   "cell_type": "code",
   "execution_count": 18,
   "id": "naked-charger",
   "metadata": {},
   "outputs": [
    {
     "data": {
      "text/plain": [
       "[<matplotlib.lines.Line2D at 0x118285f90>]"
      ]
     },
     "execution_count": 18,
     "metadata": {},
     "output_type": "execute_result"
    },
    {
     "data": {
      "image/png": "[encoded data removed]",
      "text/plain": [
       "<Figure size 432x288 with 1 Axes>"
      ]
     },
     "metadata": {
      "needs_background": "light"
     },
     "output_type": "display_data"
    }
   ],
   "source": [
    "plt.plot(np.sum(np.reshape(test_data, [49, 40]), axis=0))\n",
    "plt.plot(np.sum(np.reshape(rune_spec, [49, 40]), axis=0))"
   ]
  },
  {
   "cell_type": "code",
   "execution_count": 10,
   "id": "secondary-exclusion",
   "metadata": {},
   "outputs": [
    {
     "data": {
      "text/plain": [
       "[array([[-128, -123,  -52,   46]], dtype=int8),\n",
       " array([[-128,  -73, -105,   50]], dtype=int8),\n",
       " array([[-128,  117, -122, -123]], dtype=int8),\n",
       " array([[-128,   15, -123,  -19]], dtype=int8),\n",
       " array([[-128, -111,  108, -126]], dtype=int8)]"
      ]
     },
     "execution_count": 10,
     "metadata": {},
     "output_type": "execute_result"
    }
   ],
   "source": [
    "rune_result_list"
   ]
  },
  {
   "cell_type": "code",
   "execution_count": 43,
   "id": "anonymous-commerce",
   "metadata": {},
   "outputs": [],
   "source": [
    "noise_filtering.even_smoothing = 0.025\n",
    "noise_filtering.odd_smoothing = 0.06\n",
    "noise_filtering.min_signal_remaining = 0.05\n",
    "noise_filtering.strength = 0.95\n",
    "noise_filtering.offset = 80.0\n",
    "noise_filtering.gain_bits = 21\n",
    "\n",
    "spectrum = fft(data)"
   ]
  },
  {
   "cell_type": "code",
   "execution_count": 47,
   "id": "under-cornell",
   "metadata": {},
   "outputs": [
    {
     "data": {
      "text/plain": [
       "dtype('uint32')"
      ]
     },
     "execution_count": 47,
     "metadata": {},
     "output_type": "execute_result"
    }
   ],
   "source": [
    "spectrum.dtype"
   ]
  },
  {
   "cell_type": "code",
   "execution_count": 14,
   "id": "recovered-short",
   "metadata": {},
   "outputs": [
    {
     "data": {
      "text/plain": [
       "(array([768.,   0.,  35.,  34.,  71., 159., 212., 393., 245.,  43.]),\n",
       " array([-128. , -103.3,  -78.6,  -53.9,  -29.2,   -4.5,   20.2,   44.9,\n",
       "          69.6,   94.3,  119. ]),\n",
       " <BarContainer object of 10 artists>)"
      ]
     },
     "execution_count": 14,
     "metadata": {},
     "output_type": "execute_result"
    },
    {
     "data": {
      "image/png": "[encoded data removed]",
      "text/plain": [
       "<Figure size 432x288 with 1 Axes>"
      ]
     },
     "metadata": {
      "needs_background": "light"
     },
     "output_type": "display_data"
    }
   ],
   "source": [
    "plt.hist(test_data.flatten())"
   ]
  },
  {
   "cell_type": "markdown",
   "id": "french-pleasure",
   "metadata": {},
   "source": [
    "# Compute performance with the original spectrogram, on all the yes/no files\n",
    "# Compute performance with the spectrogram, on all the yes/no files"
   ]
  },
  {
   "cell_type": "code",
   "execution_count": 6,
   "id": "fluid-action",
   "metadata": {},
   "outputs": [
    {
     "data": {
      "text/plain": [
       "3941"
      ]
     },
     "execution_count": 6,
     "metadata": {},
     "output_type": "execute_result"
    }
   ],
   "source": []
  },
  {
   "cell_type": "code",
   "execution_count": 4,
   "id": "enormous-engine",
   "metadata": {},
   "outputs": [
    {
     "name": "stdout",
     "output_type": "stream",
     "text": [
      "🔗 Found pyo3 bindings with abi3 support for Python ≥ 3.6\n",
      "🐍 Not using a specific python interpreter (With abi3, an interpreter is only required on windows)\n",
      "Traceback (most recent call last):\n",
      "  File \"/Users/meelislootus/Documents/hotg/tflite_models/venv_tf1_py3d7d6/lib/python3.7/site-packages/pip/_vendor/msgpack/__init__.py\", line 14, in <module>\n",
      "    from ._cmsgpack import Packer, unpackb, Unpacker\n",
      "ModuleNotFoundError: No module named 'pip._vendor.msgpack._cmsgpack'\n",
      "\n",
      "During handling of the above exception, another exception occurred:\n",
      "\n",
      "Traceback (most recent call last):\n",
      "  File \"/Users/meelislootus/.pyenv/versions/3.7.6/lib/python3.7/runpy.py\", line 193, in _run_module_as_main\n",
      "    \"__main__\", mod_spec)\n",
      "  File \"/Users/meelislootus/.pyenv/versions/3.7.6/lib/python3.7/runpy.py\", line 85, in _run_code\n",
      "    exec(code, run_globals)\n",
      "  File \"/Users/meelislootus/Documents/hotg/tflite_models/venv_tf1_py3d7d6/lib/python3.7/site-packages/pip/__main__.py\", line 31, in <module>\n",
      "    sys.exit(_main())\n",
      "  File \"/Users/meelislootus/Documents/hotg/tflite_models/venv_tf1_py3d7d6/lib/python3.7/site-packages/pip/_internal/cli/main.py\", line 69, in main\n",
      "    command = create_command(cmd_name, isolated=(\"--isolated\" in cmd_args))\n",
      "  File \"/Users/meelislootus/Documents/hotg/tflite_models/venv_tf1_py3d7d6/lib/python3.7/site-packages/pip/_internal/commands/__init__.py\", line 91, in create_command\n",
      "    module = importlib.import_module(module_path)\n",
      "  File \"/Users/meelislootus/.pyenv/versions/3.7.6/lib/python3.7/importlib/__init__.py\", line 127, in import_module\n",
      "    return _bootstrap._gcd_import(name[level:], package, level)\n",
      "  File \"<frozen importlib._bootstrap>\", line 1006, in _gcd_import\n",
      "  File \"<frozen importlib._bootstrap>\", line 983, in _find_and_load\n",
      "  File \"<frozen importlib._bootstrap>\", line 967, in _find_and_load_unlocked\n",
      "  File \"<frozen importlib._bootstrap>\", line 677, in _load_unlocked\n",
      "  File \"<frozen importlib._bootstrap_external>\", line 728, in exec_module\n",
      "  File \"<frozen importlib._bootstrap>\", line 219, in _call_with_frames_removed\n",
      "  File \"/Users/meelislootus/Documents/hotg/tflite_models/venv_tf1_py3d7d6/lib/python3.7/site-packages/pip/_internal/commands/install.py\", line 15, in <module>\n",
      "    from pip._internal.cli.req_command import (\n",
      "  File \"/Users/meelislootus/Documents/hotg/tflite_models/venv_tf1_py3d7d6/lib/python3.7/site-packages/pip/_internal/cli/req_command.py\", line 20, in <module>\n",
      "    from pip._internal.index.collector import LinkCollector\n",
      "  File \"/Users/meelislootus/Documents/hotg/tflite_models/venv_tf1_py3d7d6/lib/python3.7/site-packages/pip/_internal/index/collector.py\", line 35, in <module>\n",
      "    from pip._internal.network.session import PipSession\n",
      "  File \"/Users/meelislootus/Documents/hotg/tflite_models/venv_tf1_py3d7d6/lib/python3.7/site-packages/pip/_internal/network/session.py\", line 28, in <module>\n",
      "    from pip._vendor.cachecontrol import CacheControlAdapter\n",
      "  File \"/Users/meelislootus/Documents/hotg/tflite_models/venv_tf1_py3d7d6/lib/python3.7/site-packages/pip/_vendor/cachecontrol/__init__.py\", line 9, in <module>\n",
      "    from .wrapper import CacheControl\n",
      "  File \"/Users/meelislootus/Documents/hotg/tflite_models/venv_tf1_py3d7d6/lib/python3.7/site-packages/pip/_vendor/cachecontrol/wrapper.py\", line 1, in <module>\n",
      "    from .adapter import CacheControlAdapter\n",
      "  File \"/Users/meelislootus/Documents/hotg/tflite_models/venv_tf1_py3d7d6/lib/python3.7/site-packages/pip/_vendor/cachecontrol/adapter.py\", line 7, in <module>\n",
      "    from .controller import CacheController\n",
      "  File \"/Users/meelislootus/Documents/hotg/tflite_models/venv_tf1_py3d7d6/lib/python3.7/site-packages/pip/_vendor/cachecontrol/controller.py\", line 13, in <module>\n",
      "    from .serialize import Serializer\n",
      "  File \"/Users/meelislootus/Documents/hotg/tflite_models/venv_tf1_py3d7d6/lib/python3.7/site-packages/pip/_vendor/cachecontrol/serialize.py\", line 6, in <module>\n",
      "    from pip._vendor import msgpack\n",
      "  File \"/Users/meelislootus/Documents/hotg/tflite_models/venv_tf1_py3d7d6/lib/python3.7/site-packages/pip/_vendor/msgpack/__init__.py\", line 16, in <module>\n",
      "    from .fallback import Packer, unpackb, Unpacker\n",
      "ModuleNotFoundError: No module named 'pip._vendor.msgpack.fallback'\n",
      "💥 maturin failed\n",
      "  Caused by: pip install finished with \"exit code: 1\"\n"
     ]
    }
   ],
   "source": [
    "!maturin develop --release"
   ]
  },
  {
   "cell_type": "code",
   "execution_count": 2,
   "id": "numeric-national",
   "metadata": {},
   "outputs": [
    {
     "ename": "OperatorNotAllowedInGraphError",
     "evalue": "iterating over `tf.Tensor` is not allowed in Graph execution. Use Eager execution or decorate this function with @tf.function.",
     "output_type": "error",
     "traceback": [
      "\u001b[0;31m---------------------------------------------------------------------------\u001b[0m",
      "\u001b[0;31mOperatorNotAllowedInGraphError\u001b[0m            Traceback (most recent call last)",
      "\u001b[0;32m<ipython-input-2-6c49dfa37010>\u001b[0m in \u001b[0;36m<module>\u001b[0;34m\u001b[0m\n\u001b[1;32m     53\u001b[0m audio_processor = input_data.AudioProcessor(DATA_URL, DATASET_DIR, SILENT_PERCENTAGE, UNKNOWN_PERCENTAGE,\n\u001b[1;32m     54\u001b[0m                                             \u001b[0mWANTED_WORDS\u001b[0m\u001b[0;34m.\u001b[0m\u001b[0msplit\u001b[0m\u001b[0;34m(\u001b[0m\u001b[0;34m','\u001b[0m\u001b[0;34m)\u001b[0m\u001b[0;34m,\u001b[0m \u001b[0mVALIDATION_PERCENTAGE\u001b[0m\u001b[0;34m,\u001b[0m \u001b[0mTESTING_PERCENTAGE\u001b[0m\u001b[0;34m,\u001b[0m\u001b[0;34m\u001b[0m\u001b[0;34m\u001b[0m\u001b[0m\n\u001b[0;32m---> 55\u001b[0;31m                                             model_settings, LOGS_DIR)\n\u001b[0m\u001b[1;32m     56\u001b[0m \u001b[0;34m\u001b[0m\u001b[0m\n\u001b[1;32m     57\u001b[0m params = {\n",
      "\u001b[0;32m~/Documents/hotg/rune_new2/rune/python/tf_speech_commands/input_data.py\u001b[0m in \u001b[0;36m__init__\u001b[0;34m(self, data_url, data_dir, silence_percentage, unknown_percentage, wanted_words, validation_percentage, testing_percentage, model_settings, summaries_dir)\u001b[0m\n\u001b[1;32m    223\u001b[0m                               testing_percentage)\n\u001b[1;32m    224\u001b[0m       \u001b[0mself\u001b[0m\u001b[0;34m.\u001b[0m\u001b[0mprepare_background_data\u001b[0m\u001b[0;34m(\u001b[0m\u001b[0;34m)\u001b[0m\u001b[0;34m\u001b[0m\u001b[0;34m\u001b[0m\u001b[0m\n\u001b[0;32m--> 225\u001b[0;31m     \u001b[0mself\u001b[0m\u001b[0;34m.\u001b[0m\u001b[0mprepare_processing_graph\u001b[0m\u001b[0;34m(\u001b[0m\u001b[0mmodel_settings\u001b[0m\u001b[0;34m,\u001b[0m \u001b[0msummaries_dir\u001b[0m\u001b[0;34m)\u001b[0m\u001b[0;34m\u001b[0m\u001b[0;34m\u001b[0m\u001b[0m\n\u001b[0m\u001b[1;32m    226\u001b[0m \u001b[0;34m\u001b[0m\u001b[0m\n\u001b[1;32m    227\u001b[0m   \u001b[0;32mdef\u001b[0m \u001b[0mmaybe_download_and_extract_dataset\u001b[0m\u001b[0;34m(\u001b[0m\u001b[0mself\u001b[0m\u001b[0;34m,\u001b[0m \u001b[0mdata_url\u001b[0m\u001b[0;34m,\u001b[0m \u001b[0mdest_directory\u001b[0m\u001b[0;34m)\u001b[0m\u001b[0;34m:\u001b[0m\u001b[0;34m\u001b[0m\u001b[0;34m\u001b[0m\u001b[0m\n",
      "\u001b[0;32m~/Documents/hotg/rune_new2/rune/python/tf_speech_commands/input_data.py\u001b[0m in \u001b[0;36mprepare_processing_graph\u001b[0;34m(self, model_settings, summaries_dir)\u001b[0m\n\u001b[1;32m    524\u001b[0m \u001b[0;34m\u001b[0m\u001b[0m\n\u001b[1;32m    525\u001b[0m         \u001b[0mint16_input\u001b[0m \u001b[0;34m=\u001b[0m \u001b[0mtf\u001b[0m\u001b[0;34m.\u001b[0m\u001b[0mcast\u001b[0m\u001b[0;34m(\u001b[0m\u001b[0mtf\u001b[0m\u001b[0;34m.\u001b[0m\u001b[0mmultiply\u001b[0m\u001b[0;34m(\u001b[0m\u001b[0mbackground_clamp\u001b[0m\u001b[0;34m,\u001b[0m \u001b[0;36m32768\u001b[0m\u001b[0;34m)\u001b[0m\u001b[0;34m,\u001b[0m \u001b[0mtf\u001b[0m\u001b[0;34m.\u001b[0m\u001b[0mint16\u001b[0m\u001b[0;34m)\u001b[0m\u001b[0;34m\u001b[0m\u001b[0;34m\u001b[0m\u001b[0m\n\u001b[0;32m--> 526\u001b[0;31m         \u001b[0mself\u001b[0m\u001b[0;34m.\u001b[0m\u001b[0moutput_\u001b[0m \u001b[0;34m=\u001b[0m \u001b[0mfft\u001b[0m\u001b[0;34m(\u001b[0m\u001b[0mint16_input\u001b[0m\u001b[0;34m)\u001b[0m\u001b[0;34m\u001b[0m\u001b[0;34m\u001b[0m\u001b[0m\n\u001b[0m\u001b[1;32m    527\u001b[0m         tf.compat.v1.summary.image(\n\u001b[1;32m    528\u001b[0m             \u001b[0;34m'rune'\u001b[0m\u001b[0;34m,\u001b[0m\u001b[0;34m\u001b[0m\u001b[0;34m\u001b[0m\u001b[0m\n",
      "\u001b[0;32m~/Documents/hotg/tflite_models/venv_tf1_py3d7d6/lib/python3.7/site-packages/tensorflow_core/python/framework/ops.py\u001b[0m in \u001b[0;36m__iter__\u001b[0;34m(self)\u001b[0m\n\u001b[1;32m    545\u001b[0m   \u001b[0;32mdef\u001b[0m \u001b[0m__iter__\u001b[0m\u001b[0;34m(\u001b[0m\u001b[0mself\u001b[0m\u001b[0;34m)\u001b[0m\u001b[0;34m:\u001b[0m\u001b[0;34m\u001b[0m\u001b[0;34m\u001b[0m\u001b[0m\n\u001b[1;32m    546\u001b[0m     \u001b[0;32mif\u001b[0m \u001b[0;32mnot\u001b[0m \u001b[0mcontext\u001b[0m\u001b[0;34m.\u001b[0m\u001b[0mexecuting_eagerly\u001b[0m\u001b[0;34m(\u001b[0m\u001b[0;34m)\u001b[0m\u001b[0;34m:\u001b[0m\u001b[0;34m\u001b[0m\u001b[0;34m\u001b[0m\u001b[0m\n\u001b[0;32m--> 547\u001b[0;31m       \u001b[0mself\u001b[0m\u001b[0;34m.\u001b[0m\u001b[0m_disallow_iteration\u001b[0m\u001b[0;34m(\u001b[0m\u001b[0;34m)\u001b[0m\u001b[0;34m\u001b[0m\u001b[0;34m\u001b[0m\u001b[0m\n\u001b[0m\u001b[1;32m    548\u001b[0m \u001b[0;34m\u001b[0m\u001b[0m\n\u001b[1;32m    549\u001b[0m     \u001b[0mshape\u001b[0m \u001b[0;34m=\u001b[0m \u001b[0mself\u001b[0m\u001b[0;34m.\u001b[0m\u001b[0m_shape_tuple\u001b[0m\u001b[0;34m(\u001b[0m\u001b[0;34m)\u001b[0m\u001b[0;34m\u001b[0m\u001b[0;34m\u001b[0m\u001b[0m\n",
      "\u001b[0;32m~/Documents/hotg/tflite_models/venv_tf1_py3d7d6/lib/python3.7/site-packages/tensorflow_core/python/framework/ops.py\u001b[0m in \u001b[0;36m_disallow_iteration\u001b[0;34m(self)\u001b[0m\n\u001b[1;32m    541\u001b[0m     \u001b[0;32melse\u001b[0m\u001b[0;34m:\u001b[0m\u001b[0;34m\u001b[0m\u001b[0;34m\u001b[0m\u001b[0m\n\u001b[1;32m    542\u001b[0m       \u001b[0;31m# Default: V1-style Graph execution.\u001b[0m\u001b[0;34m\u001b[0m\u001b[0;34m\u001b[0m\u001b[0;34m\u001b[0m\u001b[0m\n\u001b[0;32m--> 543\u001b[0;31m       \u001b[0mself\u001b[0m\u001b[0;34m.\u001b[0m\u001b[0m_disallow_in_graph_mode\u001b[0m\u001b[0;34m(\u001b[0m\u001b[0;34m\"iterating over `tf.Tensor`\"\u001b[0m\u001b[0;34m)\u001b[0m\u001b[0;34m\u001b[0m\u001b[0;34m\u001b[0m\u001b[0m\n\u001b[0m\u001b[1;32m    544\u001b[0m \u001b[0;34m\u001b[0m\u001b[0m\n\u001b[1;32m    545\u001b[0m   \u001b[0;32mdef\u001b[0m \u001b[0m__iter__\u001b[0m\u001b[0;34m(\u001b[0m\u001b[0mself\u001b[0m\u001b[0;34m)\u001b[0m\u001b[0;34m:\u001b[0m\u001b[0;34m\u001b[0m\u001b[0;34m\u001b[0m\u001b[0m\n",
      "\u001b[0;32m~/Documents/hotg/tflite_models/venv_tf1_py3d7d6/lib/python3.7/site-packages/tensorflow_core/python/framework/ops.py\u001b[0m in \u001b[0;36m_disallow_in_graph_mode\u001b[0;34m(self, task)\u001b[0m\n\u001b[1;32m    521\u001b[0m     raise errors.OperatorNotAllowedInGraphError(\n\u001b[1;32m    522\u001b[0m         \u001b[0;34m\"{} is not allowed in Graph execution. Use Eager execution or decorate\"\u001b[0m\u001b[0;34m\u001b[0m\u001b[0;34m\u001b[0m\u001b[0m\n\u001b[0;32m--> 523\u001b[0;31m         \" this function with @tf.function.\".format(task))\n\u001b[0m\u001b[1;32m    524\u001b[0m \u001b[0;34m\u001b[0m\u001b[0m\n\u001b[1;32m    525\u001b[0m   \u001b[0;32mdef\u001b[0m \u001b[0m_disallow_bool_casting\u001b[0m\u001b[0;34m(\u001b[0m\u001b[0mself\u001b[0m\u001b[0;34m)\u001b[0m\u001b[0;34m:\u001b[0m\u001b[0;34m\u001b[0m\u001b[0;34m\u001b[0m\u001b[0m\n",
      "\u001b[0;31mOperatorNotAllowedInGraphError\u001b[0m: iterating over `tf.Tensor` is not allowed in Graph execution. Use Eager execution or decorate this function with @tf.function."
     ]
    }
   ],
   "source": [
    "WANTED_WORDS = \"yles,alla,parem,vasak\"\n",
    "#DATA_URL = 'https://storage.googleapis.com/download.tensorflow.org/data/speech_commands_v0.02.tar.gz'\n",
    "\n",
    "DATA_URL = 'https://drive.google.com/uc?export=download&id=1uqR-_u3kxD3u64_MWAq9Gk2_lHT87Oqr' # Commands in Estonian\n",
    "DATASET_DIR =  'recordings_wav/recordings_wav/recordings_wav'\n",
    "    \n",
    "#PREPROCESS = 'micro'\n",
    "PREPROCESS = 'rune'\n",
    "\n",
    "SAMPLE_RATE = 16000\n",
    "CLIP_DURATION_MS = 1000\n",
    "WINDOW_SIZE_MS = 30.0\n",
    "WINDOW_STRIDE = 20\n",
    "FEATURE_BIN_COUNT = 40\n",
    "BACKGROUND_FREQUENCY = 0.0 # 0.8\n",
    "BACKGROUND_VOLUME_RANGE = 0.0 #0.1\n",
    "TIME_SHIFT_MS = 100.0\n",
    "\n",
    "model_settings = models.prepare_model_settings(\n",
    "    len(input_data.prepare_words_list(WANTED_WORDS.split(','))),\n",
    "    SAMPLE_RATE, CLIP_DURATION_MS, WINDOW_SIZE_MS,\n",
    "    WINDOW_STRIDE, FEATURE_BIN_COUNT, PREPROCESS,\n",
    "#    enable_pcan=False, min_signal_remaining=1.0,\n",
    "    upper_mel_band_limit=7999.0,\n",
    "    lower_mel_band_limit=0.0)\n",
    "\n",
    "# Calculate the percentage of 'silence' and 'unknown' training samples required\n",
    "# to ensure that we have equal number of samples for each label.\n",
    "number_of_labels = WANTED_WORDS.count(',') + 1\n",
    "number_of_total_labels = number_of_labels + 2 # for 'silence' and 'unknown' label\n",
    "equal_percentage_of_training_samples = int(100.0/(number_of_total_labels))\n",
    "\n",
    "SILENT_PERCENTAGE = equal_percentage_of_training_samples\n",
    "UNKNOWN_PERCENTAGE = equal_percentage_of_training_samples\n",
    "\n",
    "VALIDATION_PERCENTAGE = 10\n",
    "TESTING_PERCENTAGE = 10\n",
    "LOGS_DIR = 'logs/'\n",
    "TRAIN_DIR = \"train\"\n",
    "\n",
    "MODEL_ARCHITECTURE = 'tiny_conv'\n",
    "#TRAINING_STEPS = \"12000,3000\"\n",
    "#TRAINING_STEPS = \"1200,300\"\n",
    "TRAINING_STEPS = \"12,3\"\n",
    "LEARNING_RATE = \"0.001,0.0001\"\n",
    "\n",
    "EVAL_STEP_INTERVAL = 1000\n",
    "SAVE_STEP_INTERVAL = 1000\n",
    "\n",
    "VERBOSITY = 'WARN'\n",
    "\n",
    "\n",
    "audio_processor = input_data.AudioProcessor(DATA_URL, DATASET_DIR, SILENT_PERCENTAGE, UNKNOWN_PERCENTAGE,\n",
    "                                            WANTED_WORDS.split(','), VALIDATION_PERCENTAGE, TESTING_PERCENTAGE, \n",
    "                                            model_settings, LOGS_DIR)\n",
    "\n",
    "params = {\n",
    "      'data_url':DATA_URL,\n",
    "      'data_dir':DATASET_DIR,\n",
    "      'background_volume': 0.1, # How loud the background noise should be, between 0 and 1.\n",
    "      'background_frequency':0.8,\n",
    "      'silence_percentage':SILENT_PERCENTAGE,\n",
    "      'unknown_percentage':UNKNOWN_PERCENTAGE,\n",
    "      'time_shift_ms':TIME_SHIFT_MS,\n",
    "      'testing_percentage':TESTING_PERCENTAGE,\n",
    "      'validation_percentage':VALIDATION_PERCENTAGE,\n",
    "      'sample_rate':SAMPLE_RATE,\n",
    "      'clip_duration_ms':CLIP_DURATION_MS,\n",
    "      'window_size_ms': WINDOW_SIZE_MS,\n",
    "      'window_stride_ms':WINDOW_STRIDE,\n",
    "      'feature_bin_count':FEATURE_BIN_COUNT,\n",
    "      'how_many_training_steps':TRAINING_STEPS,\n",
    "      'eval_step_interval':EVAL_STEP_INTERVAL,\n",
    "      'learning_rate':LEARNING_RATE,\n",
    "      'batch_size':16,\n",
    "      'summaries_dir':LOGS_DIR,\n",
    "      'wanted_words':WANTED_WORDS,\n",
    "      'train_dir':TRAIN_DIR,\n",
    "      'save_step_interval':SAVE_STEP_INTERVAL,\n",
    "      'start_checkpoint':\"\",\n",
    "      'model_architecture':MODEL_ARCHITECTURE,\n",
    "      'check_nans':False,\n",
    "      'quantize':True,\n",
    "      'preprocess':PREPROCESS,\n",
    "      'verbosity':VERBOSITY,\n",
    "      'optimizer':'gradient_descent'}"
   ]
  },
  {
   "cell_type": "code",
   "execution_count": 3,
   "id": "acknowledged-sponsorship",
   "metadata": {},
   "outputs": [
    {
     "data": {
      "text/plain": [
       "'1.15.2'"
      ]
     },
     "execution_count": 3,
     "metadata": {},
     "output_type": "execute_result"
    }
   ],
   "source": [
    "tf.__version__"
   ]
  },
  {
   "cell_type": "code",
   "execution_count": null,
   "id": "lyric-favor",
   "metadata": {},
   "outputs": [],
   "source": [
    "# Fix the data download part"
   ]
  },
  {
   "cell_type": "code",
   "execution_count": 9,
   "id": "forced-guidance",
   "metadata": {},
   "outputs": [],
   "source": [
    "from tensorflow.python.platform import gfile\n",
    "from six.moves import xrange  # pylint: disable=redefined-builtin\n",
    "\n",
    "\n",
    "def train(audio_processor, model_settings, params):\n",
    "\n",
    "    tf.compat.v1.logging.set_verbosity(params[\"verbosity\"])\n",
    "\n",
    "    # Start a new TensorFlow session.\n",
    "    sess = tf.compat.v1.InteractiveSession()\n",
    "\n",
    "    fingerprint_size = model_settings['fingerprint_size']\n",
    "    label_count = model_settings['label_count']\n",
    "    time_shift_samples = int(\n",
    "        (params[\"time_shift_ms\"] * params[\"sample_rate\"]) / 1000)\n",
    "    # Figure out the learning rates for each training phase. Since it's often\n",
    "    # effective to have high learning rates at the start of training, followed by\n",
    "    # lower levels towards the end, the number of steps and learning rates can be\n",
    "    # specified as comma-separated lists to define the rate at each stage. For\n",
    "    # example --how_many_training_steps=10000,3000 --learning_rate=0.001,0.0001\n",
    "    # will run 13,000 training loops in total, with a rate of 0.001 for the first\n",
    "    # 10,000, and 0.0001 for the final 3,000.\n",
    "    training_steps_list = list(\n",
    "        map(int, params[\"how_many_training_steps\"].split(',')))\n",
    "    learning_rates_list = list(map(float, params[\"learning_rate\"].split(',')))\n",
    "    if len(training_steps_list) != len(learning_rates_list):\n",
    "        raise Exception(\n",
    "            '--how_many_training_steps and --learning_rate must be equal length '\n",
    "            'lists, but are %d and %d long instead' % (len(training_steps_list),\n",
    "                                                       len(learning_rates_list)))\n",
    "\n",
    "    input_placeholder = tf.compat.v1.placeholder(\n",
    "        tf.float32, [None, fingerprint_size], name='fingerprint_input')\n",
    "    if params[\"quantize\"]:\n",
    "        fingerprint_min, fingerprint_max = input_data.get_features_range(\n",
    "            model_settings)\n",
    "        fingerprint_input = tf.quantization.fake_quant_with_min_max_args(\n",
    "            input_placeholder, fingerprint_min, fingerprint_max)\n",
    "    else:\n",
    "        fingerprint_input = input_placeholder\n",
    "\n",
    "    logits, dropout_rate = models.create_model(\n",
    "        fingerprint_input,\n",
    "        model_settings,\n",
    "        params[\"model_architecture\"],\n",
    "        is_training=True)\n",
    "\n",
    "    # Define loss and optimizer\n",
    "    ground_truth_input = tf.compat.v1.placeholder(\n",
    "        tf.int64, [None], name='groundtruth_input')\n",
    "\n",
    "    # Optionally we can add runtime checks to spot when NaNs or other symptoms of\n",
    "    # numerical errors start occurring during training.\n",
    "    control_dependencies = []\n",
    "    if params[\"check_nans\"]:\n",
    "        checks = tf.compat.v1.add_check_numerics_ops()\n",
    "        control_dependencies = [checks]\n",
    "\n",
    "    # Create the back propagation and training evaluation machinery in the graph.\n",
    "    with tf.compat.v1.name_scope('cross_entropy'):\n",
    "        cross_entropy_mean = tf.compat.v1.losses.sparse_softmax_cross_entropy(\n",
    "            labels=ground_truth_input, logits=logits)\n",
    "\n",
    "    if params[\"quantize\"]:\n",
    "        try:\n",
    "            tf.contrib.quantize.create_training_graph(quant_delay=0)\n",
    "        except AttributeError as e:\n",
    "            msg = e.args[0]\n",
    "            msg += ('\\n\\n The --quantize option still requires contrib, which is not '\n",
    "                    'part of TensorFlow 2.0. Please install a previous version:'\n",
    "                    '\\n    `pip install tensorflow<=1.15`')\n",
    "            e.args = (msg,)\n",
    "            raise e\n",
    "\n",
    "    with tf.compat.v1.name_scope('train'), tf.control_dependencies(\n",
    "            control_dependencies):\n",
    "        learning_rate_input = tf.compat.v1.placeholder(\n",
    "            tf.float32, [], name='learning_rate_input')\n",
    "        if params[\"optimizer\"] == 'gradient_descent':\n",
    "            train_step = tf.compat.v1.train.GradientDescentOptimizer(\n",
    "                learning_rate_input).minimize(cross_entropy_mean)\n",
    "        elif params[\"optimizer\"] == 'momentum':\n",
    "            train_step = tf.compat.v1.train.MomentumOptimizer(\n",
    "                learning_rate_input, .9,\n",
    "                use_nesterov=True).minimize(cross_entropy_mean)\n",
    "        else:\n",
    "            raise Exception('Invalid Optimizer')\n",
    "    predicted_indices = tf.argmax(input=logits, axis=1)\n",
    "    correct_prediction = tf.equal(predicted_indices, ground_truth_input)\n",
    "    confusion_matrix = tf.math.confusion_matrix(labels=ground_truth_input,\n",
    "                                                predictions=predicted_indices,\n",
    "                                                num_classes=label_count)\n",
    "    evaluation_step = tf.reduce_mean(input_tensor=tf.cast(correct_prediction,\n",
    "                                                          tf.float32))\n",
    "    with tf.compat.v1.get_default_graph().name_scope('eval'):\n",
    "        tf.compat.v1.summary.scalar('cross_entropy', cross_entropy_mean)\n",
    "        tf.compat.v1.summary.scalar('accuracy', evaluation_step)\n",
    "\n",
    "    global_step = tf.compat.v1.train.get_or_create_global_step()\n",
    "    increment_global_step = tf.compat.v1.assign(global_step, global_step + 1)\n",
    "\n",
    "    saver = tf.compat.v1.train.Saver(tf.compat.v1.global_variables())\n",
    "\n",
    "    # Merge all the summaries and write them out to /tmp/retrain_logs (by default)\n",
    "    merged_summaries = tf.compat.v1.summary.merge_all(scope='eval')\n",
    "    train_writer = tf.compat.v1.summary.FileWriter(params[\"summaries_dir\"] + '/train',\n",
    "                                                   sess.graph)\n",
    "    validation_writer = tf.compat.v1.summary.FileWriter(\n",
    "        params[\"summaries_dir\"] + '/validation')\n",
    "\n",
    "    tf.compat.v1.global_variables_initializer().run()\n",
    "\n",
    "    start_step = 1\n",
    "\n",
    "    if params[\"start_checkpoint\"]:\n",
    "        models.load_variables_from_checkpoint(sess, params[\"start_checkpoint\"])\n",
    "        start_step = global_step.eval(session=sess)\n",
    "\n",
    "    tf.compat.v1.logging.info('Training from step: %d ', start_step)\n",
    "\n",
    "    # Save graph.pbtxt.\n",
    "    tf.io.write_graph(sess.graph_def, params[\"train_dir\"],\n",
    "                      params[\"model_architecture\"] + '.pbtxt')\n",
    "\n",
    "    # Save list of words.\n",
    "    with gfile.GFile(\n",
    "            os.path.join(params[\"train_dir\"],\n",
    "                         params[\"model_architecture\"] + '_labels.txt'),\n",
    "            'w') as f:\n",
    "        f.write('\\n'.join(audio_processor.words_list))\n",
    "\n",
    "    # Training loop.\n",
    "    training_steps_max = np.sum(training_steps_list)\n",
    "    for training_step in xrange(start_step, training_steps_max + 1):\n",
    "        # Figure out what the current learning rate is.\n",
    "        training_steps_sum = 0\n",
    "        for i in range(len(training_steps_list)):\n",
    "            training_steps_sum += training_steps_list[i]\n",
    "            if training_step <= training_steps_sum:\n",
    "                learning_rate_value = learning_rates_list[i]\n",
    "                break\n",
    "        # Pull the audio samples we'll use for training.\n",
    "        train_fingerprints, train_ground_truth = audio_processor.get_data(\n",
    "            params[\"batch_size\"], 0, model_settings, params[\"background_frequency\"],\n",
    "            params[\"background_volume\"], time_shift_samples, 'training', sess)\n",
    "        # Run the graph with this batch of training data.\n",
    "        train_summary, train_accuracy, cross_entropy_value, _, _ = sess.run(\n",
    "            [\n",
    "                merged_summaries,\n",
    "                evaluation_step,\n",
    "                cross_entropy_mean,\n",
    "                train_step,\n",
    "                increment_global_step,\n",
    "            ],\n",
    "            feed_dict={\n",
    "                fingerprint_input: train_fingerprints,\n",
    "                ground_truth_input: train_ground_truth,\n",
    "                learning_rate_input: learning_rate_value,\n",
    "                dropout_rate: 0.5\n",
    "            })\n",
    "        train_writer.add_summary(train_summary, training_step)\n",
    "        tf.compat.v1.logging.debug(\n",
    "            'Step #%d: rate %f, accuracy %.1f%%, cross entropy %f' %\n",
    "            (training_step, learning_rate_value, train_accuracy * 100,\n",
    "             cross_entropy_value))\n",
    "        is_last_step = (training_step == training_steps_max)\n",
    "        if (training_step % params[\"eval_step_interval\"]) == 0 or is_last_step:\n",
    "            tf.compat.v1.logging.info(\n",
    "                'Step #%d: rate %f, accuracy %.1f%%, cross entropy %f' %\n",
    "                (training_step, learning_rate_value, train_accuracy * 100,\n",
    "                 cross_entropy_value))\n",
    "            set_size = audio_processor.set_size('validation')\n",
    "            total_accuracy = 0\n",
    "            total_conf_matrix = None\n",
    "            for i in xrange(0, set_size, params[\"batch_size\"]):\n",
    "                validation_fingerprints, validation_ground_truth = (\n",
    "                    audio_processor.get_data(params[\"batch_size\"], i, model_settings, 0.0,\n",
    "                                             0.0, 0, 'validation', sess))\n",
    "                # Run a validation step and capture training summaries for TensorBoard\n",
    "                # with the `merged` op.\n",
    "                validation_summary, validation_accuracy, conf_matrix = sess.run(\n",
    "                    [merged_summaries, evaluation_step, confusion_matrix],\n",
    "                    feed_dict={\n",
    "                        fingerprint_input: validation_fingerprints,\n",
    "                        ground_truth_input: validation_ground_truth,\n",
    "                        dropout_rate: 0.0\n",
    "                    })\n",
    "                validation_writer.add_summary(\n",
    "                    validation_summary, training_step)\n",
    "                batch_size = min(params[\"batch_size\"], set_size - i)\n",
    "                total_accuracy += (validation_accuracy * batch_size) / set_size\n",
    "                if total_conf_matrix is None:\n",
    "                    total_conf_matrix = conf_matrix\n",
    "                else:\n",
    "                    total_conf_matrix += conf_matrix\n",
    "            tf.compat.v1.logging.info(\n",
    "                'Confusion Matrix:\\n %s' % (total_conf_matrix))\n",
    "            tf.compat.v1.logging.info('Step %d: Validation accuracy = %.1f%% (N=%d)' %\n",
    "                                      (training_step, total_accuracy * 100, set_size))\n",
    "\n",
    "        # Save the model checkpoint periodically.\n",
    "        if (training_step % params[\"save_step_interval\"] == 0 or\n",
    "                training_step == training_steps_max):\n",
    "            checkpoint_path = os.path.join(params[\"train_dir\"],\n",
    "                                           params[\"model_architecture\"] + '.ckpt')\n",
    "            tf.compat.v1.logging.info('Saving to \"%s-%d\"', checkpoint_path,\n",
    "                                      training_step)\n",
    "            saver.save(sess, checkpoint_path, global_step=training_step)\n",
    "\n",
    "    set_size = audio_processor.set_size('testing')\n",
    "    tf.compat.v1.logging.info('set_size=%d', set_size)\n",
    "    total_accuracy = 0\n",
    "    total_conf_matrix = None\n",
    "    for i in xrange(0, set_size, params[\"batch_size\"]):\n",
    "        test_fingerprints, test_ground_truth = audio_processor.get_data(\n",
    "            params[\"batch_size\"], i, model_settings, 0.0, 0.0, 0, 'testing', sess)\n",
    "        test_accuracy, conf_matrix = sess.run(\n",
    "            [evaluation_step, confusion_matrix],\n",
    "            feed_dict={\n",
    "                fingerprint_input: test_fingerprints,\n",
    "                ground_truth_input: test_ground_truth,\n",
    "                dropout_rate: 0.0\n",
    "            })\n",
    "        batch_size = min(params[\"batch_size\"], set_size - i)\n",
    "        total_accuracy += (test_accuracy * batch_size) / set_size\n",
    "        if total_conf_matrix is None:\n",
    "            total_conf_matrix = conf_matrix\n",
    "        else:\n",
    "            total_conf_matrix += conf_matrix\n",
    "    tf.compat.v1.logging.warn('Confusion Matrix:\\n %s' % (total_conf_matrix))\n",
    "    tf.compat.v1.logging.warn('Final test accuracy = %.1f%% (N=%d)' %\n",
    "                              (total_accuracy * 100, set_size))\n",
    "    "
   ]
  },
  {
   "cell_type": "code",
   "execution_count": 10,
   "id": "sustainable-kelly",
   "metadata": {},
   "outputs": [
    {
     "name": "stderr",
     "output_type": "stream",
     "text": [
      "/Users/meelislootus/Documents/hotg/tflite_models/venv_tf1_py3d7d6/lib/python3.7/site-packages/tensorflow_core/python/client/session.py:1750: UserWarning: An interactive session is already active. This can cause out-of-memory errors in some cases. You must explicitly call `InteractiveSession.close()` to release resources held by the other session(s).\n",
      "  warnings.warn('An interactive session is already active. This can '\n"
     ]
    },
    {
     "ename": "ValueError",
     "evalue": "Variable first_weights already exists, disallowed. Did you mean to set reuse=True or reuse=tf.AUTO_REUSE in VarScope? Originally defined at:\n\n  File \"/Users/meelislootus/Documents/hotg/tflite_models/venv_tf1_py3d7d6/lib/python3.7/site-packages/tensorflow_core/python/framework/ops.py\", line 1748, in __init__\n    self._traceback = tf_stack.extract_stack()\n  File \"/Users/meelislootus/Documents/hotg/tflite_models/venv_tf1_py3d7d6/lib/python3.7/site-packages/tensorflow_core/python/framework/ops.py\", line 3426, in _create_op_internal\n    op_def=op_def)\n  File \"/Users/meelislootus/Documents/hotg/tflite_models/venv_tf1_py3d7d6/lib/python3.7/site-packages/tensorflow_core/python/framework/ops.py\", line 3357, in create_op\n    attrs, op_def, compute_device)\n  File \"/Users/meelislootus/Documents/hotg/tflite_models/venv_tf1_py3d7d6/lib/python3.7/site-packages/tensorflow_core/python/util/deprecation.py\", line 507, in new_func\n    return func(*args, **kwargs)\n  File \"/Users/meelislootus/Documents/hotg/tflite_models/venv_tf1_py3d7d6/lib/python3.7/site-packages/tensorflow_core/python/framework/op_def_library.py\", line 794, in _apply_op_helper\n    op_def=op_def)\n",
     "output_type": "error",
     "traceback": [
      "\u001b[0;31m---------------------------------------------------------------------------\u001b[0m",
      "\u001b[0;31mValueError\u001b[0m                                Traceback (most recent call last)",
      "\u001b[0;32m<ipython-input-10-ff6dc9ed4933>\u001b[0m in \u001b[0;36m<module>\u001b[0;34m\u001b[0m\n\u001b[0;32m----> 1\u001b[0;31m \u001b[0mtrain\u001b[0m\u001b[0;34m(\u001b[0m\u001b[0maudio_processor\u001b[0m\u001b[0;34m,\u001b[0m \u001b[0mmodel_settings\u001b[0m\u001b[0;34m,\u001b[0m \u001b[0mparams\u001b[0m\u001b[0;34m)\u001b[0m\u001b[0;34m\u001b[0m\u001b[0;34m\u001b[0m\u001b[0m\n\u001b[0m",
      "\u001b[0;32m<ipython-input-9-4f6ab2687e21>\u001b[0m in \u001b[0;36mtrain\u001b[0;34m(audio_processor, model_settings, params)\u001b[0m\n\u001b[1;32m     44\u001b[0m         \u001b[0mmodel_settings\u001b[0m\u001b[0;34m,\u001b[0m\u001b[0;34m\u001b[0m\u001b[0;34m\u001b[0m\u001b[0m\n\u001b[1;32m     45\u001b[0m         \u001b[0mparams\u001b[0m\u001b[0;34m[\u001b[0m\u001b[0;34m\"model_architecture\"\u001b[0m\u001b[0;34m]\u001b[0m\u001b[0;34m,\u001b[0m\u001b[0;34m\u001b[0m\u001b[0;34m\u001b[0m\u001b[0m\n\u001b[0;32m---> 46\u001b[0;31m         is_training=True)\n\u001b[0m\u001b[1;32m     47\u001b[0m \u001b[0;34m\u001b[0m\u001b[0m\n\u001b[1;32m     48\u001b[0m     \u001b[0;31m# Define loss and optimizer\u001b[0m\u001b[0;34m\u001b[0m\u001b[0;34m\u001b[0m\u001b[0;34m\u001b[0m\u001b[0m\n",
      "\u001b[0;32m~/Documents/hotg/rune_new2/rune/python/tf_speech_commands/models.py\u001b[0m in \u001b[0;36mcreate_model\u001b[0;34m(fingerprint_input, model_settings, model_architecture, is_training, runtime_settings)\u001b[0m\n\u001b[1;32m    145\u001b[0m   \u001b[0;32melif\u001b[0m \u001b[0mmodel_architecture\u001b[0m \u001b[0;34m==\u001b[0m \u001b[0;34m'tiny_conv'\u001b[0m\u001b[0;34m:\u001b[0m\u001b[0;34m\u001b[0m\u001b[0;34m\u001b[0m\u001b[0m\n\u001b[1;32m    146\u001b[0m     return create_tiny_conv_model(fingerprint_input, model_settings,\n\u001b[0;32m--> 147\u001b[0;31m                                   is_training)\n\u001b[0m\u001b[1;32m    148\u001b[0m   \u001b[0;32melif\u001b[0m \u001b[0mmodel_architecture\u001b[0m \u001b[0;34m==\u001b[0m \u001b[0;34m'tiny_embedding_conv'\u001b[0m\u001b[0;34m:\u001b[0m\u001b[0;34m\u001b[0m\u001b[0;34m\u001b[0m\u001b[0m\n\u001b[1;32m    149\u001b[0m     return create_tiny_embedding_conv_model(fingerprint_input, model_settings,\n",
      "\u001b[0;32m~/Documents/hotg/rune_new2/rune/python/tf_speech_commands/models.py\u001b[0m in \u001b[0;36mcreate_tiny_conv_model\u001b[0;34m(fingerprint_input, model_settings, is_training)\u001b[0m\n\u001b[1;32m    727\u001b[0m       \u001b[0mname\u001b[0m\u001b[0;34m=\u001b[0m\u001b[0;34m'first_weights'\u001b[0m\u001b[0;34m,\u001b[0m\u001b[0;34m\u001b[0m\u001b[0;34m\u001b[0m\u001b[0m\n\u001b[1;32m    728\u001b[0m       \u001b[0minitializer\u001b[0m\u001b[0;34m=\u001b[0m\u001b[0mtf\u001b[0m\u001b[0;34m.\u001b[0m\u001b[0mcompat\u001b[0m\u001b[0;34m.\u001b[0m\u001b[0mv1\u001b[0m\u001b[0;34m.\u001b[0m\u001b[0mtruncated_normal_initializer\u001b[0m\u001b[0;34m(\u001b[0m\u001b[0mstddev\u001b[0m\u001b[0;34m=\u001b[0m\u001b[0;36m0.01\u001b[0m\u001b[0;34m)\u001b[0m\u001b[0;34m,\u001b[0m\u001b[0;34m\u001b[0m\u001b[0;34m\u001b[0m\u001b[0m\n\u001b[0;32m--> 729\u001b[0;31m       shape=[first_filter_height, first_filter_width, 1, first_filter_count])\n\u001b[0m\u001b[1;32m    730\u001b[0m   first_bias = tf.compat.v1.get_variable(\n\u001b[1;32m    731\u001b[0m       \u001b[0mname\u001b[0m\u001b[0;34m=\u001b[0m\u001b[0;34m'first_bias'\u001b[0m\u001b[0;34m,\u001b[0m\u001b[0;34m\u001b[0m\u001b[0;34m\u001b[0m\u001b[0m\n",
      "\u001b[0;32m~/Documents/hotg/tflite_models/venv_tf1_py3d7d6/lib/python3.7/site-packages/tensorflow_core/python/ops/variable_scope.py\u001b[0m in \u001b[0;36mget_variable\u001b[0;34m(name, shape, dtype, initializer, regularizer, trainable, collections, caching_device, partitioner, validate_shape, use_resource, custom_getter, constraint, synchronization, aggregation)\u001b[0m\n\u001b[1;32m   1498\u001b[0m       \u001b[0mconstraint\u001b[0m\u001b[0;34m=\u001b[0m\u001b[0mconstraint\u001b[0m\u001b[0;34m,\u001b[0m\u001b[0;34m\u001b[0m\u001b[0;34m\u001b[0m\u001b[0m\n\u001b[1;32m   1499\u001b[0m       \u001b[0msynchronization\u001b[0m\u001b[0;34m=\u001b[0m\u001b[0msynchronization\u001b[0m\u001b[0;34m,\u001b[0m\u001b[0;34m\u001b[0m\u001b[0;34m\u001b[0m\u001b[0m\n\u001b[0;32m-> 1500\u001b[0;31m       aggregation=aggregation)\n\u001b[0m\u001b[1;32m   1501\u001b[0m \u001b[0;34m\u001b[0m\u001b[0m\n\u001b[1;32m   1502\u001b[0m \u001b[0;34m\u001b[0m\u001b[0m\n",
      "\u001b[0;32m~/Documents/hotg/tflite_models/venv_tf1_py3d7d6/lib/python3.7/site-packages/tensorflow_core/python/ops/variable_scope.py\u001b[0m in \u001b[0;36mget_variable\u001b[0;34m(self, var_store, name, shape, dtype, initializer, regularizer, reuse, trainable, collections, caching_device, partitioner, validate_shape, use_resource, custom_getter, constraint, synchronization, aggregation)\u001b[0m\n\u001b[1;32m   1241\u001b[0m           \u001b[0mconstraint\u001b[0m\u001b[0;34m=\u001b[0m\u001b[0mconstraint\u001b[0m\u001b[0;34m,\u001b[0m\u001b[0;34m\u001b[0m\u001b[0;34m\u001b[0m\u001b[0m\n\u001b[1;32m   1242\u001b[0m           \u001b[0msynchronization\u001b[0m\u001b[0;34m=\u001b[0m\u001b[0msynchronization\u001b[0m\u001b[0;34m,\u001b[0m\u001b[0;34m\u001b[0m\u001b[0;34m\u001b[0m\u001b[0m\n\u001b[0;32m-> 1243\u001b[0;31m           aggregation=aggregation)\n\u001b[0m\u001b[1;32m   1244\u001b[0m \u001b[0;34m\u001b[0m\u001b[0m\n\u001b[1;32m   1245\u001b[0m   def _get_partitioned_variable(self,\n",
      "\u001b[0;32m~/Documents/hotg/tflite_models/venv_tf1_py3d7d6/lib/python3.7/site-packages/tensorflow_core/python/ops/variable_scope.py\u001b[0m in \u001b[0;36mget_variable\u001b[0;34m(self, name, shape, dtype, initializer, regularizer, reuse, trainable, collections, caching_device, partitioner, validate_shape, use_resource, custom_getter, constraint, synchronization, aggregation)\u001b[0m\n\u001b[1;32m    565\u001b[0m           \u001b[0mconstraint\u001b[0m\u001b[0;34m=\u001b[0m\u001b[0mconstraint\u001b[0m\u001b[0;34m,\u001b[0m\u001b[0;34m\u001b[0m\u001b[0;34m\u001b[0m\u001b[0m\n\u001b[1;32m    566\u001b[0m           \u001b[0msynchronization\u001b[0m\u001b[0;34m=\u001b[0m\u001b[0msynchronization\u001b[0m\u001b[0;34m,\u001b[0m\u001b[0;34m\u001b[0m\u001b[0;34m\u001b[0m\u001b[0m\n\u001b[0;32m--> 567\u001b[0;31m           aggregation=aggregation)\n\u001b[0m\u001b[1;32m    568\u001b[0m \u001b[0;34m\u001b[0m\u001b[0m\n\u001b[1;32m    569\u001b[0m   def _get_partitioned_variable(self,\n",
      "\u001b[0;32m~/Documents/hotg/tflite_models/venv_tf1_py3d7d6/lib/python3.7/site-packages/tensorflow_core/python/ops/variable_scope.py\u001b[0m in \u001b[0;36m_true_getter\u001b[0;34m(name, shape, dtype, initializer, regularizer, reuse, trainable, collections, caching_device, partitioner, validate_shape, use_resource, constraint, synchronization, aggregation)\u001b[0m\n\u001b[1;32m    517\u001b[0m           \u001b[0mconstraint\u001b[0m\u001b[0;34m=\u001b[0m\u001b[0mconstraint\u001b[0m\u001b[0;34m,\u001b[0m\u001b[0;34m\u001b[0m\u001b[0;34m\u001b[0m\u001b[0m\n\u001b[1;32m    518\u001b[0m           \u001b[0msynchronization\u001b[0m\u001b[0;34m=\u001b[0m\u001b[0msynchronization\u001b[0m\u001b[0;34m,\u001b[0m\u001b[0;34m\u001b[0m\u001b[0;34m\u001b[0m\u001b[0m\n\u001b[0;32m--> 519\u001b[0;31m           aggregation=aggregation)\n\u001b[0m\u001b[1;32m    520\u001b[0m \u001b[0;34m\u001b[0m\u001b[0m\n\u001b[1;32m    521\u001b[0m     synchronization, aggregation, trainable = (\n",
      "\u001b[0;32m~/Documents/hotg/tflite_models/venv_tf1_py3d7d6/lib/python3.7/site-packages/tensorflow_core/python/ops/variable_scope.py\u001b[0m in \u001b[0;36m_get_single_variable\u001b[0;34m(self, name, shape, dtype, initializer, regularizer, partition_info, reuse, trainable, collections, caching_device, validate_shape, use_resource, constraint, synchronization, aggregation)\u001b[0m\n\u001b[1;32m    866\u001b[0m         \u001b[0mtb\u001b[0m \u001b[0;34m=\u001b[0m \u001b[0;34m[\u001b[0m\u001b[0mx\u001b[0m \u001b[0;32mfor\u001b[0m \u001b[0mx\u001b[0m \u001b[0;32min\u001b[0m \u001b[0mtb\u001b[0m \u001b[0;32mif\u001b[0m \u001b[0;34m\"tensorflow/python\"\u001b[0m \u001b[0;32mnot\u001b[0m \u001b[0;32min\u001b[0m \u001b[0mx\u001b[0m\u001b[0;34m[\u001b[0m\u001b[0;36m0\u001b[0m\u001b[0;34m]\u001b[0m\u001b[0;34m]\u001b[0m\u001b[0;34m[\u001b[0m\u001b[0;34m:\u001b[0m\u001b[0;36m5\u001b[0m\u001b[0;34m]\u001b[0m\u001b[0;34m\u001b[0m\u001b[0;34m\u001b[0m\u001b[0m\n\u001b[1;32m    867\u001b[0m         raise ValueError(\"%s Originally defined at:\\n\\n%s\" %\n\u001b[0;32m--> 868\u001b[0;31m                          (err_msg, \"\".join(traceback.format_list(tb))))\n\u001b[0m\u001b[1;32m    869\u001b[0m       \u001b[0mfound_var\u001b[0m \u001b[0;34m=\u001b[0m \u001b[0mself\u001b[0m\u001b[0;34m.\u001b[0m\u001b[0m_vars\u001b[0m\u001b[0;34m[\u001b[0m\u001b[0mname\u001b[0m\u001b[0;34m]\u001b[0m\u001b[0;34m\u001b[0m\u001b[0;34m\u001b[0m\u001b[0m\n\u001b[1;32m    870\u001b[0m       \u001b[0;32mif\u001b[0m \u001b[0;32mnot\u001b[0m \u001b[0mshape\u001b[0m\u001b[0;34m.\u001b[0m\u001b[0mis_compatible_with\u001b[0m\u001b[0;34m(\u001b[0m\u001b[0mfound_var\u001b[0m\u001b[0;34m.\u001b[0m\u001b[0mget_shape\u001b[0m\u001b[0;34m(\u001b[0m\u001b[0;34m)\u001b[0m\u001b[0;34m)\u001b[0m\u001b[0;34m:\u001b[0m\u001b[0;34m\u001b[0m\u001b[0;34m\u001b[0m\u001b[0m\n",
      "\u001b[0;31mValueError\u001b[0m: Variable first_weights already exists, disallowed. Did you mean to set reuse=True or reuse=tf.AUTO_REUSE in VarScope? Originally defined at:\n\n  File \"/Users/meelislootus/Documents/hotg/tflite_models/venv_tf1_py3d7d6/lib/python3.7/site-packages/tensorflow_core/python/framework/ops.py\", line 1748, in __init__\n    self._traceback = tf_stack.extract_stack()\n  File \"/Users/meelislootus/Documents/hotg/tflite_models/venv_tf1_py3d7d6/lib/python3.7/site-packages/tensorflow_core/python/framework/ops.py\", line 3426, in _create_op_internal\n    op_def=op_def)\n  File \"/Users/meelislootus/Documents/hotg/tflite_models/venv_tf1_py3d7d6/lib/python3.7/site-packages/tensorflow_core/python/framework/ops.py\", line 3357, in create_op\n    attrs, op_def, compute_device)\n  File \"/Users/meelislootus/Documents/hotg/tflite_models/venv_tf1_py3d7d6/lib/python3.7/site-packages/tensorflow_core/python/util/deprecation.py\", line 507, in new_func\n    return func(*args, **kwargs)\n  File \"/Users/meelislootus/Documents/hotg/tflite_models/venv_tf1_py3d7d6/lib/python3.7/site-packages/tensorflow_core/python/framework/op_def_library.py\", line 794, in _apply_op_helper\n    op_def=op_def)\n"
     ]
    }
   ],
   "source": [
    "train(audio_processor, model_settings, params)"
   ]
  },
  {
   "cell_type": "code",
   "execution_count": 7,
   "id": "ancient-shape",
   "metadata": {},
   "outputs": [
    {
     "data": {
      "text/plain": [
       "'micro'"
      ]
     },
     "execution_count": 7,
     "metadata": {},
     "output_type": "execute_result"
    }
   ],
   "source": [
    "model_settings[\"preprocess\"]"
   ]
  },
  {
   "cell_type": "code",
   "execution_count": null,
   "id": "express-notion",
   "metadata": {},
   "outputs": [],
   "source": []
  }
 ],
 "metadata": {
  "kernelspec": {
   "display_name": "Python 3",
   "language": "python",
   "name": "python3"
  },
  "language_info": {
   "codemirror_mode": {
    "name": "ipython",
    "version": 3
   },
   "file_extension": ".py",
   "mimetype": "text/x-python",
   "name": "python",
   "nbconvert_exporter": "python",
   "pygments_lexer": "ipython3",
   "version": "3.7.6"
  }
 },
 "nbformat": 4,
 "nbformat_minor": 5
}
